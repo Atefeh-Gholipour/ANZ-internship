{
 "cells": [
  {
   "cell_type": "code",
   "execution_count": 1,
   "metadata": {
    "scrolled": true
   },
   "outputs": [],
   "source": [
    "# import libraries\n",
    "import pandas as pd\n",
    "import matplotlib.pyplot as plt\n",
    "import numpy as np\n",
    "import math"
   ]
  },
  {
   "cell_type": "code",
   "execution_count": 2,
   "metadata": {
    "scrolled": true
   },
   "outputs": [
    {
     "data": {
      "text/html": [
       "<div>\n",
       "<style scoped>\n",
       "    .dataframe tbody tr th:only-of-type {\n",
       "        vertical-align: middle;\n",
       "    }\n",
       "\n",
       "    .dataframe tbody tr th {\n",
       "        vertical-align: top;\n",
       "    }\n",
       "\n",
       "    .dataframe thead th {\n",
       "        text-align: right;\n",
       "    }\n",
       "</style>\n",
       "<table border=\"1\" class=\"dataframe\">\n",
       "  <thead>\n",
       "    <tr style=\"text-align: right;\">\n",
       "      <th></th>\n",
       "      <th>status</th>\n",
       "      <th>card_present_flag</th>\n",
       "      <th>bpay_biller_code</th>\n",
       "      <th>account</th>\n",
       "      <th>currency</th>\n",
       "      <th>long_lat</th>\n",
       "      <th>txn_description</th>\n",
       "      <th>merchant_id</th>\n",
       "      <th>merchant_code</th>\n",
       "      <th>first_name</th>\n",
       "      <th>...</th>\n",
       "      <th>age</th>\n",
       "      <th>merchant_suburb</th>\n",
       "      <th>merchant_state</th>\n",
       "      <th>extraction</th>\n",
       "      <th>amount</th>\n",
       "      <th>transaction_id</th>\n",
       "      <th>country</th>\n",
       "      <th>customer_id</th>\n",
       "      <th>merchant_long_lat</th>\n",
       "      <th>movement</th>\n",
       "    </tr>\n",
       "  </thead>\n",
       "  <tbody>\n",
       "    <tr>\n",
       "      <th>0</th>\n",
       "      <td>authorized</td>\n",
       "      <td>1.0</td>\n",
       "      <td>NaN</td>\n",
       "      <td>ACC-1598451071</td>\n",
       "      <td>AUD</td>\n",
       "      <td>153.41 -27.95</td>\n",
       "      <td>POS</td>\n",
       "      <td>81c48296-73be-44a7-befa-d053f48ce7cd</td>\n",
       "      <td>NaN</td>\n",
       "      <td>Diana</td>\n",
       "      <td>...</td>\n",
       "      <td>26</td>\n",
       "      <td>Ashmore</td>\n",
       "      <td>QLD</td>\n",
       "      <td>2018-08-01T01:01:15.000+0000</td>\n",
       "      <td>16.25</td>\n",
       "      <td>a623070bfead4541a6b0fff8a09e706c</td>\n",
       "      <td>Australia</td>\n",
       "      <td>CUS-2487424745</td>\n",
       "      <td>153.38 -27.99</td>\n",
       "      <td>debit</td>\n",
       "    </tr>\n",
       "    <tr>\n",
       "      <th>1</th>\n",
       "      <td>authorized</td>\n",
       "      <td>0.0</td>\n",
       "      <td>NaN</td>\n",
       "      <td>ACC-1598451071</td>\n",
       "      <td>AUD</td>\n",
       "      <td>153.41 -27.95</td>\n",
       "      <td>SALES-POS</td>\n",
       "      <td>830a451c-316e-4a6a-bf25-e37caedca49e</td>\n",
       "      <td>NaN</td>\n",
       "      <td>Diana</td>\n",
       "      <td>...</td>\n",
       "      <td>26</td>\n",
       "      <td>Sydney</td>\n",
       "      <td>NSW</td>\n",
       "      <td>2018-08-01T01:13:45.000+0000</td>\n",
       "      <td>14.19</td>\n",
       "      <td>13270a2a902145da9db4c951e04b51b9</td>\n",
       "      <td>Australia</td>\n",
       "      <td>CUS-2487424745</td>\n",
       "      <td>151.21 -33.87</td>\n",
       "      <td>debit</td>\n",
       "    </tr>\n",
       "    <tr>\n",
       "      <th>2</th>\n",
       "      <td>authorized</td>\n",
       "      <td>1.0</td>\n",
       "      <td>NaN</td>\n",
       "      <td>ACC-1222300524</td>\n",
       "      <td>AUD</td>\n",
       "      <td>151.23 -33.94</td>\n",
       "      <td>POS</td>\n",
       "      <td>835c231d-8cdf-4e96-859d-e9d571760cf0</td>\n",
       "      <td>NaN</td>\n",
       "      <td>Michael</td>\n",
       "      <td>...</td>\n",
       "      <td>38</td>\n",
       "      <td>Sydney</td>\n",
       "      <td>NSW</td>\n",
       "      <td>2018-08-01T01:26:15.000+0000</td>\n",
       "      <td>6.42</td>\n",
       "      <td>feb79e7ecd7048a5a36ec889d1a94270</td>\n",
       "      <td>Australia</td>\n",
       "      <td>CUS-2142601169</td>\n",
       "      <td>151.21 -33.87</td>\n",
       "      <td>debit</td>\n",
       "    </tr>\n",
       "    <tr>\n",
       "      <th>3</th>\n",
       "      <td>authorized</td>\n",
       "      <td>1.0</td>\n",
       "      <td>NaN</td>\n",
       "      <td>ACC-1037050564</td>\n",
       "      <td>AUD</td>\n",
       "      <td>153.10 -27.66</td>\n",
       "      <td>SALES-POS</td>\n",
       "      <td>48514682-c78a-4a88-b0da-2d6302e64673</td>\n",
       "      <td>NaN</td>\n",
       "      <td>Rhonda</td>\n",
       "      <td>...</td>\n",
       "      <td>40</td>\n",
       "      <td>Buderim</td>\n",
       "      <td>QLD</td>\n",
       "      <td>2018-08-01T01:38:45.000+0000</td>\n",
       "      <td>40.90</td>\n",
       "      <td>2698170da3704fd981b15e64a006079e</td>\n",
       "      <td>Australia</td>\n",
       "      <td>CUS-1614226872</td>\n",
       "      <td>153.05 -26.68</td>\n",
       "      <td>debit</td>\n",
       "    </tr>\n",
       "    <tr>\n",
       "      <th>4</th>\n",
       "      <td>authorized</td>\n",
       "      <td>1.0</td>\n",
       "      <td>NaN</td>\n",
       "      <td>ACC-1598451071</td>\n",
       "      <td>AUD</td>\n",
       "      <td>153.41 -27.95</td>\n",
       "      <td>SALES-POS</td>\n",
       "      <td>b4e02c10-0852-4273-b8fd-7b3395e32eb0</td>\n",
       "      <td>NaN</td>\n",
       "      <td>Diana</td>\n",
       "      <td>...</td>\n",
       "      <td>26</td>\n",
       "      <td>Mermaid Beach</td>\n",
       "      <td>QLD</td>\n",
       "      <td>2018-08-01T01:51:15.000+0000</td>\n",
       "      <td>3.25</td>\n",
       "      <td>329adf79878c4cf0aeb4188b4691c266</td>\n",
       "      <td>Australia</td>\n",
       "      <td>CUS-2487424745</td>\n",
       "      <td>153.44 -28.06</td>\n",
       "      <td>debit</td>\n",
       "    </tr>\n",
       "  </tbody>\n",
       "</table>\n",
       "<p>5 rows × 23 columns</p>\n",
       "</div>"
      ],
      "text/plain": [
       "       status  card_present_flag bpay_biller_code         account currency  \\\n",
       "0  authorized                1.0              NaN  ACC-1598451071      AUD   \n",
       "1  authorized                0.0              NaN  ACC-1598451071      AUD   \n",
       "2  authorized                1.0              NaN  ACC-1222300524      AUD   \n",
       "3  authorized                1.0              NaN  ACC-1037050564      AUD   \n",
       "4  authorized                1.0              NaN  ACC-1598451071      AUD   \n",
       "\n",
       "        long_lat txn_description                           merchant_id  \\\n",
       "0  153.41 -27.95             POS  81c48296-73be-44a7-befa-d053f48ce7cd   \n",
       "1  153.41 -27.95       SALES-POS  830a451c-316e-4a6a-bf25-e37caedca49e   \n",
       "2  151.23 -33.94             POS  835c231d-8cdf-4e96-859d-e9d571760cf0   \n",
       "3  153.10 -27.66       SALES-POS  48514682-c78a-4a88-b0da-2d6302e64673   \n",
       "4  153.41 -27.95       SALES-POS  b4e02c10-0852-4273-b8fd-7b3395e32eb0   \n",
       "\n",
       "   merchant_code first_name  ...  age merchant_suburb merchant_state  \\\n",
       "0            NaN      Diana  ...   26         Ashmore            QLD   \n",
       "1            NaN      Diana  ...   26          Sydney            NSW   \n",
       "2            NaN    Michael  ...   38          Sydney            NSW   \n",
       "3            NaN     Rhonda  ...   40         Buderim            QLD   \n",
       "4            NaN      Diana  ...   26   Mermaid Beach            QLD   \n",
       "\n",
       "                     extraction amount                    transaction_id  \\\n",
       "0  2018-08-01T01:01:15.000+0000  16.25  a623070bfead4541a6b0fff8a09e706c   \n",
       "1  2018-08-01T01:13:45.000+0000  14.19  13270a2a902145da9db4c951e04b51b9   \n",
       "2  2018-08-01T01:26:15.000+0000   6.42  feb79e7ecd7048a5a36ec889d1a94270   \n",
       "3  2018-08-01T01:38:45.000+0000  40.90  2698170da3704fd981b15e64a006079e   \n",
       "4  2018-08-01T01:51:15.000+0000   3.25  329adf79878c4cf0aeb4188b4691c266   \n",
       "\n",
       "     country     customer_id merchant_long_lat movement  \n",
       "0  Australia  CUS-2487424745     153.38 -27.99    debit  \n",
       "1  Australia  CUS-2487424745     151.21 -33.87    debit  \n",
       "2  Australia  CUS-2142601169     151.21 -33.87    debit  \n",
       "3  Australia  CUS-1614226872     153.05 -26.68    debit  \n",
       "4  Australia  CUS-2487424745     153.44 -28.06    debit  \n",
       "\n",
       "[5 rows x 23 columns]"
      ]
     },
     "execution_count": 2,
     "metadata": {},
     "output_type": "execute_result"
    }
   ],
   "source": [
    "# read dataset\n",
    "dataset = pd.read_excel(\"ANZ synthesised transaction dataset.xlsx\")\n",
    "dataset.head()"
   ]
  },
  {
   "cell_type": "code",
   "execution_count": 3,
   "metadata": {
    "scrolled": true
   },
   "outputs": [
    {
     "name": "stdout",
     "output_type": "stream",
     "text": [
      "<class 'pandas.core.frame.DataFrame'>\n",
      "RangeIndex: 12043 entries, 0 to 12042\n",
      "Data columns (total 23 columns):\n",
      "status               12043 non-null object\n",
      "card_present_flag    7717 non-null float64\n",
      "bpay_biller_code     885 non-null object\n",
      "account              12043 non-null object\n",
      "currency             12043 non-null object\n",
      "long_lat             12043 non-null object\n",
      "txn_description      12043 non-null object\n",
      "merchant_id          7717 non-null object\n",
      "merchant_code        883 non-null float64\n",
      "first_name           12043 non-null object\n",
      "balance              12043 non-null float64\n",
      "date                 12043 non-null datetime64[ns]\n",
      "gender               12043 non-null object\n",
      "age                  12043 non-null int64\n",
      "merchant_suburb      7717 non-null object\n",
      "merchant_state       7717 non-null object\n",
      "extraction           12043 non-null object\n",
      "amount               12043 non-null float64\n",
      "transaction_id       12043 non-null object\n",
      "country              12043 non-null object\n",
      "customer_id          12043 non-null object\n",
      "merchant_long_lat    7717 non-null object\n",
      "movement             12043 non-null object\n",
      "dtypes: datetime64[ns](1), float64(4), int64(1), object(17)\n",
      "memory usage: 2.1+ MB\n"
     ]
    }
   ],
   "source": [
    "dataset.info()"
   ]
  },
  {
   "cell_type": "code",
   "execution_count": 4,
   "metadata": {
    "scrolled": true
   },
   "outputs": [],
   "source": [
    "#dataset.columns"
   ]
  },
  {
   "cell_type": "code",
   "execution_count": 5,
   "metadata": {
    "scrolled": true
   },
   "outputs": [],
   "source": [
    "#print(dataset.date.dtype)\n",
    "# There is no data for 16-08-2018 so ingore this month\n",
    "#sub_dataset = dataset[(dataset['date'] >= '2018-09-01')]\n",
    "#sub_dataset = dataset"
   ]
  },
  {
   "cell_type": "code",
   "execution_count": 6,
   "metadata": {
    "scrolled": true
   },
   "outputs": [],
   "source": [
    "# drop irrelevant columns\n",
    "\n",
    "df = dataset.drop(['status', 'card_present_flag', 'bpay_biller_code', 'account', 'currency', 'merchant_id',\n",
    "                   'merchant_code', 'first_name', 'date', 'merchant_suburb', 'merchant_state', 'extraction', \n",
    "                   'transaction_id', 'country', 'merchant_long_lat', 'movement'], axis = 1)"
   ]
  },
  {
   "cell_type": "code",
   "execution_count": 7,
   "metadata": {
    "scrolled": true
   },
   "outputs": [
    {
     "data": {
      "text/html": [
       "<div>\n",
       "<style scoped>\n",
       "    .dataframe tbody tr th:only-of-type {\n",
       "        vertical-align: middle;\n",
       "    }\n",
       "\n",
       "    .dataframe tbody tr th {\n",
       "        vertical-align: top;\n",
       "    }\n",
       "\n",
       "    .dataframe thead th {\n",
       "        text-align: right;\n",
       "    }\n",
       "</style>\n",
       "<table border=\"1\" class=\"dataframe\">\n",
       "  <thead>\n",
       "    <tr style=\"text-align: right;\">\n",
       "      <th></th>\n",
       "      <th>long_lat</th>\n",
       "      <th>txn_description</th>\n",
       "      <th>balance</th>\n",
       "      <th>gender</th>\n",
       "      <th>age</th>\n",
       "      <th>amount</th>\n",
       "      <th>customer_id</th>\n",
       "    </tr>\n",
       "  </thead>\n",
       "  <tbody>\n",
       "    <tr>\n",
       "      <th>0</th>\n",
       "      <td>153.41 -27.95</td>\n",
       "      <td>POS</td>\n",
       "      <td>35.39</td>\n",
       "      <td>F</td>\n",
       "      <td>26</td>\n",
       "      <td>16.25</td>\n",
       "      <td>CUS-2487424745</td>\n",
       "    </tr>\n",
       "    <tr>\n",
       "      <th>1</th>\n",
       "      <td>153.41 -27.95</td>\n",
       "      <td>SALES-POS</td>\n",
       "      <td>21.20</td>\n",
       "      <td>F</td>\n",
       "      <td>26</td>\n",
       "      <td>14.19</td>\n",
       "      <td>CUS-2487424745</td>\n",
       "    </tr>\n",
       "    <tr>\n",
       "      <th>2</th>\n",
       "      <td>151.23 -33.94</td>\n",
       "      <td>POS</td>\n",
       "      <td>5.71</td>\n",
       "      <td>M</td>\n",
       "      <td>38</td>\n",
       "      <td>6.42</td>\n",
       "      <td>CUS-2142601169</td>\n",
       "    </tr>\n",
       "    <tr>\n",
       "      <th>3</th>\n",
       "      <td>153.10 -27.66</td>\n",
       "      <td>SALES-POS</td>\n",
       "      <td>2117.22</td>\n",
       "      <td>F</td>\n",
       "      <td>40</td>\n",
       "      <td>40.90</td>\n",
       "      <td>CUS-1614226872</td>\n",
       "    </tr>\n",
       "    <tr>\n",
       "      <th>4</th>\n",
       "      <td>153.41 -27.95</td>\n",
       "      <td>SALES-POS</td>\n",
       "      <td>17.95</td>\n",
       "      <td>F</td>\n",
       "      <td>26</td>\n",
       "      <td>3.25</td>\n",
       "      <td>CUS-2487424745</td>\n",
       "    </tr>\n",
       "  </tbody>\n",
       "</table>\n",
       "</div>"
      ],
      "text/plain": [
       "        long_lat txn_description  balance gender  age  amount     customer_id\n",
       "0  153.41 -27.95             POS    35.39      F   26   16.25  CUS-2487424745\n",
       "1  153.41 -27.95       SALES-POS    21.20      F   26   14.19  CUS-2487424745\n",
       "2  151.23 -33.94             POS     5.71      M   38    6.42  CUS-2142601169\n",
       "3  153.10 -27.66       SALES-POS  2117.22      F   40   40.90  CUS-1614226872\n",
       "4  153.41 -27.95       SALES-POS    17.95      F   26    3.25  CUS-2487424745"
      ]
     },
     "execution_count": 7,
     "metadata": {},
     "output_type": "execute_result"
    }
   ],
   "source": [
    "df.head()"
   ]
  },
  {
   "cell_type": "code",
   "execution_count": 8,
   "metadata": {
    "scrolled": true
   },
   "outputs": [
    {
     "data": {
      "text/plain": [
       "long_lat           0\n",
       "txn_description    0\n",
       "balance            0\n",
       "gender             0\n",
       "age                0\n",
       "amount             0\n",
       "customer_id        0\n",
       "dtype: int64"
      ]
     },
     "execution_count": 8,
     "metadata": {},
     "output_type": "execute_result"
    }
   ],
   "source": [
    "# check for nulls\n",
    "df.isnull().sum()"
   ]
  },
  {
   "cell_type": "code",
   "execution_count": 9,
   "metadata": {
    "scrolled": true
   },
   "outputs": [
    {
     "data": {
      "text/plain": [
       "Text(0.5, 0, 'Salary payment count')"
      ]
     },
     "execution_count": 9,
     "metadata": {},
     "output_type": "execute_result"
    },
    {
     "data": {
      "image/png": "[encoded data removed]",
      "text/plain": [
       "<Figure size 432x288 with 1 Axes>"
      ]
     },
     "metadata": {
      "needs_background": "light"
     },
     "output_type": "display_data"
    }
   ],
   "source": [
    "# Count the number of PAY/SALARY for each customer\n",
    "\n",
    "df_salary = dataset[['customer_id', 'txn_description', 'amount', 'date']]\n",
    "df_salary = df_salary[(df['txn_description'] == 'PAY/SALARY')]\n",
    "\n",
    "#df_salary_sort = df_salary.sort_values(by = ['customer_id', 'date'], ascending = False)\n",
    "#df_salary_sort\n",
    "\n",
    "df_salary_count = df_salary.pivot_table(index=['customer_id'], aggfunc='size')\n",
    "type(df_salary_count)\n",
    "df_count_S = pd.DataFrame(df_salary_count)\n",
    "df_count_S = df_count_S.reset_index()\n",
    "df_count_S.rename(columns = {0 :'Salary_Count'}, inplace = True)\n",
    "#type(df_count)\n",
    "plt.hist(df_salary_count, bins = 12)\n",
    "plt.ylabel('Number of salary payment count')\n",
    "plt.xlabel('Salary payment count')\n",
    "#df_count"
   ]
  },
  {
   "cell_type": "code",
   "execution_count": 10,
   "metadata": {
    "scrolled": true
   },
   "outputs": [
    {
     "data": {
      "text/html": [
       "<div>\n",
       "<style scoped>\n",
       "    .dataframe tbody tr th:only-of-type {\n",
       "        vertical-align: middle;\n",
       "    }\n",
       "\n",
       "    .dataframe tbody tr th {\n",
       "        vertical-align: top;\n",
       "    }\n",
       "\n",
       "    .dataframe thead th {\n",
       "        text-align: right;\n",
       "    }\n",
       "</style>\n",
       "<table border=\"1\" class=\"dataframe\">\n",
       "  <thead>\n",
       "    <tr style=\"text-align: right;\">\n",
       "      <th></th>\n",
       "      <th></th>\n",
       "      <th></th>\n",
       "      <th>txn_description</th>\n",
       "      <th>INTER BANK</th>\n",
       "      <th>PAY/SALARY</th>\n",
       "      <th>PAYMENT</th>\n",
       "      <th>PHONE BANK</th>\n",
       "      <th>POS</th>\n",
       "      <th>SALES-POS</th>\n",
       "    </tr>\n",
       "    <tr>\n",
       "      <th>customer_id</th>\n",
       "      <th>age</th>\n",
       "      <th>long_lat</th>\n",
       "      <th>gender</th>\n",
       "      <th></th>\n",
       "      <th></th>\n",
       "      <th></th>\n",
       "      <th></th>\n",
       "      <th></th>\n",
       "      <th></th>\n",
       "    </tr>\n",
       "  </thead>\n",
       "  <tbody>\n",
       "    <tr>\n",
       "      <th>CUS-1005756958</th>\n",
       "      <th>53</th>\n",
       "      <th>153.03 -27.51</th>\n",
       "      <th>F</th>\n",
       "      <td>0</td>\n",
       "      <td>12616.11</td>\n",
       "      <td>1296</td>\n",
       "      <td>546</td>\n",
       "      <td>748.01</td>\n",
       "      <td>1062.85</td>\n",
       "    </tr>\n",
       "    <tr>\n",
       "      <th>CUS-1117979751</th>\n",
       "      <th>21</th>\n",
       "      <th>115.81 -31.82</th>\n",
       "      <th>M</th>\n",
       "      <td>1001</td>\n",
       "      <td>25050.55</td>\n",
       "      <td>3957</td>\n",
       "      <td>0</td>\n",
       "      <td>606.37</td>\n",
       "      <td>3369.45</td>\n",
       "    </tr>\n",
       "    <tr>\n",
       "      <th>CUS-1140341822</th>\n",
       "      <th>28</th>\n",
       "      <th>144.97 -37.42</th>\n",
       "      <th>M</th>\n",
       "      <td>270</td>\n",
       "      <td>11499.06</td>\n",
       "      <td>852</td>\n",
       "      <td>0</td>\n",
       "      <td>1356.47</td>\n",
       "      <td>3033.07</td>\n",
       "    </tr>\n",
       "    <tr>\n",
       "      <th>CUS-1147642491</th>\n",
       "      <th>34</th>\n",
       "      <th>151.04 -33.77</th>\n",
       "      <th>F</th>\n",
       "      <td>250</td>\n",
       "      <td>22248.07</td>\n",
       "      <td>2597</td>\n",
       "      <td>0</td>\n",
       "      <td>2062.31</td>\n",
       "      <td>1823.44</td>\n",
       "    </tr>\n",
       "    <tr>\n",
       "      <th>CUS-1196156254</th>\n",
       "      <th>34</th>\n",
       "      <th>138.52 -35.01</th>\n",
       "      <th>F</th>\n",
       "      <td>767</td>\n",
       "      <td>27326.11</td>\n",
       "      <td>3017</td>\n",
       "      <td>0</td>\n",
       "      <td>2305.65</td>\n",
       "      <td>2634.96</td>\n",
       "    </tr>\n",
       "  </tbody>\n",
       "</table>\n",
       "</div>"
      ],
      "text/plain": [
       "txn_description                          INTER BANK  PAY/SALARY  PAYMENT  \\\n",
       "customer_id    age long_lat      gender                                    \n",
       "CUS-1005756958 53  153.03 -27.51 F                0    12616.11     1296   \n",
       "CUS-1117979751 21  115.81 -31.82 M             1001    25050.55     3957   \n",
       "CUS-1140341822 28  144.97 -37.42 M              270    11499.06      852   \n",
       "CUS-1147642491 34  151.04 -33.77 F              250    22248.07     2597   \n",
       "CUS-1196156254 34  138.52 -35.01 F              767    27326.11     3017   \n",
       "\n",
       "txn_description                          PHONE BANK      POS  SALES-POS  \n",
       "customer_id    age long_lat      gender                                  \n",
       "CUS-1005756958 53  153.03 -27.51 F              546   748.01    1062.85  \n",
       "CUS-1117979751 21  115.81 -31.82 M                0   606.37    3369.45  \n",
       "CUS-1140341822 28  144.97 -37.42 M                0  1356.47    3033.07  \n",
       "CUS-1147642491 34  151.04 -33.77 F                0  2062.31    1823.44  \n",
       "CUS-1196156254 34  138.52 -35.01 F                0  2305.65    2634.96  "
      ]
     },
     "execution_count": 10,
     "metadata": {},
     "output_type": "execute_result"
    }
   ],
   "source": [
    "# pivot table to find unique customers and their salary and other kind of transactions\n",
    "df_CI = pd.pivot_table(df, values = 'amount', \n",
    "                     index = ['customer_id', 'age', 'long_lat', 'gender' ],\n",
    "                     columns = ['txn_description'], aggfunc = np.sum, fill_value = 0)\n",
    "df_CI.head()"
   ]
  },
  {
   "cell_type": "code",
   "execution_count": 11,
   "metadata": {
    "scrolled": true
   },
   "outputs": [],
   "source": [
    "#df_CI.columns"
   ]
  },
  {
   "cell_type": "code",
   "execution_count": 12,
   "metadata": {
    "scrolled": true
   },
   "outputs": [],
   "source": [
    "#df_CI.info()"
   ]
  },
  {
   "cell_type": "code",
   "execution_count": 13,
   "metadata": {
    "scrolled": true
   },
   "outputs": [
    {
     "name": "stdout",
     "output_type": "stream",
     "text": [
      "<class 'pandas.core.frame.DataFrame'>\n",
      "RangeIndex: 100 entries, 0 to 99\n",
      "Data columns (total 10 columns):\n",
      "customer_id    100 non-null object\n",
      "age            100 non-null int64\n",
      "long_lat       100 non-null object\n",
      "gender         100 non-null object\n",
      "INTER BANK     100 non-null int64\n",
      "PAY/SALARY     100 non-null float64\n",
      "PAYMENT        100 non-null int64\n",
      "PHONE BANK     100 non-null int64\n",
      "POS            100 non-null float64\n",
      "SALES-POS      100 non-null float64\n",
      "dtypes: float64(3), int64(4), object(3)\n",
      "memory usage: 7.9+ KB\n"
     ]
    }
   ],
   "source": [
    "# Turn Pandas Multi-Index into column\n",
    "df_CI = df_CI.reset_index()\n",
    "df_CI.info()"
   ]
  },
  {
   "cell_type": "code",
   "execution_count": 14,
   "metadata": {
    "scrolled": true
   },
   "outputs": [
    {
     "data": {
      "text/html": [
       "<div>\n",
       "<style scoped>\n",
       "    .dataframe tbody tr th:only-of-type {\n",
       "        vertical-align: middle;\n",
       "    }\n",
       "\n",
       "    .dataframe tbody tr th {\n",
       "        vertical-align: top;\n",
       "    }\n",
       "\n",
       "    .dataframe thead th {\n",
       "        text-align: right;\n",
       "    }\n",
       "</style>\n",
       "<table border=\"1\" class=\"dataframe\">\n",
       "  <thead>\n",
       "    <tr style=\"text-align: right;\">\n",
       "      <th>txn_description</th>\n",
       "      <th>customer_id</th>\n",
       "      <th>age</th>\n",
       "      <th>long_lat</th>\n",
       "      <th>gender</th>\n",
       "      <th>INTER BANK</th>\n",
       "      <th>PAY/SALARY</th>\n",
       "      <th>PAYMENT</th>\n",
       "      <th>PHONE BANK</th>\n",
       "      <th>POS</th>\n",
       "      <th>SALES-POS</th>\n",
       "    </tr>\n",
       "  </thead>\n",
       "  <tbody>\n",
       "    <tr>\n",
       "      <th>0</th>\n",
       "      <td>CUS-1005756958</td>\n",
       "      <td>53</td>\n",
       "      <td>153.03 -27.51</td>\n",
       "      <td>F</td>\n",
       "      <td>0</td>\n",
       "      <td>12616.11</td>\n",
       "      <td>1296</td>\n",
       "      <td>546</td>\n",
       "      <td>748.01</td>\n",
       "      <td>1062.85</td>\n",
       "    </tr>\n",
       "    <tr>\n",
       "      <th>1</th>\n",
       "      <td>CUS-1117979751</td>\n",
       "      <td>21</td>\n",
       "      <td>115.81 -31.82</td>\n",
       "      <td>M</td>\n",
       "      <td>1001</td>\n",
       "      <td>25050.55</td>\n",
       "      <td>3957</td>\n",
       "      <td>0</td>\n",
       "      <td>606.37</td>\n",
       "      <td>3369.45</td>\n",
       "    </tr>\n",
       "    <tr>\n",
       "      <th>2</th>\n",
       "      <td>CUS-1140341822</td>\n",
       "      <td>28</td>\n",
       "      <td>144.97 -37.42</td>\n",
       "      <td>M</td>\n",
       "      <td>270</td>\n",
       "      <td>11499.06</td>\n",
       "      <td>852</td>\n",
       "      <td>0</td>\n",
       "      <td>1356.47</td>\n",
       "      <td>3033.07</td>\n",
       "    </tr>\n",
       "    <tr>\n",
       "      <th>3</th>\n",
       "      <td>CUS-1147642491</td>\n",
       "      <td>34</td>\n",
       "      <td>151.04 -33.77</td>\n",
       "      <td>F</td>\n",
       "      <td>250</td>\n",
       "      <td>22248.07</td>\n",
       "      <td>2597</td>\n",
       "      <td>0</td>\n",
       "      <td>2062.31</td>\n",
       "      <td>1823.44</td>\n",
       "    </tr>\n",
       "    <tr>\n",
       "      <th>4</th>\n",
       "      <td>CUS-1196156254</td>\n",
       "      <td>34</td>\n",
       "      <td>138.52 -35.01</td>\n",
       "      <td>F</td>\n",
       "      <td>767</td>\n",
       "      <td>27326.11</td>\n",
       "      <td>3017</td>\n",
       "      <td>0</td>\n",
       "      <td>2305.65</td>\n",
       "      <td>2634.96</td>\n",
       "    </tr>\n",
       "  </tbody>\n",
       "</table>\n",
       "</div>"
      ],
      "text/plain": [
       "txn_description     customer_id  age       long_lat gender  INTER BANK  \\\n",
       "0                CUS-1005756958   53  153.03 -27.51      F           0   \n",
       "1                CUS-1117979751   21  115.81 -31.82      M        1001   \n",
       "2                CUS-1140341822   28  144.97 -37.42      M         270   \n",
       "3                CUS-1147642491   34  151.04 -33.77      F         250   \n",
       "4                CUS-1196156254   34  138.52 -35.01      F         767   \n",
       "\n",
       "txn_description  PAY/SALARY  PAYMENT  PHONE BANK      POS  SALES-POS  \n",
       "0                  12616.11     1296         546   748.01    1062.85  \n",
       "1                  25050.55     3957           0   606.37    3369.45  \n",
       "2                  11499.06      852           0  1356.47    3033.07  \n",
       "3                  22248.07     2597           0  2062.31    1823.44  \n",
       "4                  27326.11     3017           0  2305.65    2634.96  "
      ]
     },
     "execution_count": 14,
     "metadata": {},
     "output_type": "execute_result"
    }
   ],
   "source": [
    "df_CI.head()"
   ]
  },
  {
   "cell_type": "code",
   "execution_count": 15,
   "metadata": {
    "scrolled": true
   },
   "outputs": [
    {
     "data": {
      "text/html": [
       "<div>\n",
       "<style scoped>\n",
       "    .dataframe tbody tr th:only-of-type {\n",
       "        vertical-align: middle;\n",
       "    }\n",
       "\n",
       "    .dataframe tbody tr th {\n",
       "        vertical-align: top;\n",
       "    }\n",
       "\n",
       "    .dataframe thead th {\n",
       "        text-align: right;\n",
       "    }\n",
       "</style>\n",
       "<table border=\"1\" class=\"dataframe\">\n",
       "  <thead>\n",
       "    <tr style=\"text-align: right;\">\n",
       "      <th></th>\n",
       "      <th>customer_id</th>\n",
       "      <th>age</th>\n",
       "      <th>long_lat</th>\n",
       "      <th>gender</th>\n",
       "      <th>INTER BANK</th>\n",
       "      <th>PAY/SALARY</th>\n",
       "      <th>PAYMENT</th>\n",
       "      <th>PHONE BANK</th>\n",
       "      <th>POS</th>\n",
       "      <th>SALES-POS</th>\n",
       "      <th>Salary_Count</th>\n",
       "    </tr>\n",
       "  </thead>\n",
       "  <tbody>\n",
       "    <tr>\n",
       "      <th>0</th>\n",
       "      <td>CUS-1005756958</td>\n",
       "      <td>53</td>\n",
       "      <td>153.03 -27.51</td>\n",
       "      <td>F</td>\n",
       "      <td>0</td>\n",
       "      <td>12616.11</td>\n",
       "      <td>1296</td>\n",
       "      <td>546</td>\n",
       "      <td>748.01</td>\n",
       "      <td>1062.85</td>\n",
       "      <td>13</td>\n",
       "    </tr>\n",
       "    <tr>\n",
       "      <th>1</th>\n",
       "      <td>CUS-1117979751</td>\n",
       "      <td>21</td>\n",
       "      <td>115.81 -31.82</td>\n",
       "      <td>M</td>\n",
       "      <td>1001</td>\n",
       "      <td>25050.55</td>\n",
       "      <td>3957</td>\n",
       "      <td>0</td>\n",
       "      <td>606.37</td>\n",
       "      <td>3369.45</td>\n",
       "      <td>7</td>\n",
       "    </tr>\n",
       "    <tr>\n",
       "      <th>2</th>\n",
       "      <td>CUS-1140341822</td>\n",
       "      <td>28</td>\n",
       "      <td>144.97 -37.42</td>\n",
       "      <td>M</td>\n",
       "      <td>270</td>\n",
       "      <td>11499.06</td>\n",
       "      <td>852</td>\n",
       "      <td>0</td>\n",
       "      <td>1356.47</td>\n",
       "      <td>3033.07</td>\n",
       "      <td>6</td>\n",
       "    </tr>\n",
       "    <tr>\n",
       "      <th>3</th>\n",
       "      <td>CUS-1147642491</td>\n",
       "      <td>34</td>\n",
       "      <td>151.04 -33.77</td>\n",
       "      <td>F</td>\n",
       "      <td>250</td>\n",
       "      <td>22248.07</td>\n",
       "      <td>2597</td>\n",
       "      <td>0</td>\n",
       "      <td>2062.31</td>\n",
       "      <td>1823.44</td>\n",
       "      <td>13</td>\n",
       "    </tr>\n",
       "    <tr>\n",
       "      <th>4</th>\n",
       "      <td>CUS-1196156254</td>\n",
       "      <td>34</td>\n",
       "      <td>138.52 -35.01</td>\n",
       "      <td>F</td>\n",
       "      <td>767</td>\n",
       "      <td>27326.11</td>\n",
       "      <td>3017</td>\n",
       "      <td>0</td>\n",
       "      <td>2305.65</td>\n",
       "      <td>2634.96</td>\n",
       "      <td>7</td>\n",
       "    </tr>\n",
       "  </tbody>\n",
       "</table>\n",
       "</div>"
      ],
      "text/plain": [
       "      customer_id  age       long_lat gender  INTER BANK  PAY/SALARY  PAYMENT  \\\n",
       "0  CUS-1005756958   53  153.03 -27.51      F           0    12616.11     1296   \n",
       "1  CUS-1117979751   21  115.81 -31.82      M        1001    25050.55     3957   \n",
       "2  CUS-1140341822   28  144.97 -37.42      M         270    11499.06      852   \n",
       "3  CUS-1147642491   34  151.04 -33.77      F         250    22248.07     2597   \n",
       "4  CUS-1196156254   34  138.52 -35.01      F         767    27326.11     3017   \n",
       "\n",
       "   PHONE BANK      POS  SALES-POS  Salary_Count  \n",
       "0         546   748.01    1062.85            13  \n",
       "1           0   606.37    3369.45             7  \n",
       "2           0  1356.47    3033.07             6  \n",
       "3           0  2062.31    1823.44            13  \n",
       "4           0  2305.65    2634.96             7  "
      ]
     },
     "execution_count": 15,
     "metadata": {},
     "output_type": "execute_result"
    }
   ],
   "source": [
    "# Add Salary Count to dataset\n",
    "df_CI_S = df_CI.merge(df_count_S, left_on = 'customer_id', right_on = 'customer_id', how = 'inner')\n",
    "df_CI_S.head()"
   ]
  },
  {
   "cell_type": "code",
   "execution_count": 16,
   "metadata": {
    "scrolled": true
   },
   "outputs": [],
   "source": [
    "# Calculate annual salary\n",
    "# if Salary_Count >= 12 then payment is weekly\n",
    "# if Salary_Count <= 5 then payment is monthly\n",
    "# if other value then payment is fortnightly\n"
   ]
  },
  {
   "cell_type": "code",
   "execution_count": 17,
   "metadata": {
    "scrolled": true
   },
   "outputs": [
    {
     "name": "stderr",
     "output_type": "stream",
     "text": [
      "C:\\Users\\atefeh\\Anaconda3\\lib\\site-packages\\ipykernel_launcher.py:4: SettingWithCopyWarning: \n",
      "A value is trying to be set on a copy of a slice from a DataFrame\n",
      "\n",
      "See the caveats in the documentation: http://pandas.pydata.org/pandas-docs/stable/indexing.html#indexing-view-versus-copy\n",
      "  after removing the cwd from sys.path.\n",
      "C:\\Users\\atefeh\\Anaconda3\\lib\\site-packages\\ipykernel_launcher.py:8: SettingWithCopyWarning: \n",
      "A value is trying to be set on a copy of a slice from a DataFrame\n",
      "\n",
      "See the caveats in the documentation: http://pandas.pydata.org/pandas-docs/stable/indexing.html#indexing-view-versus-copy\n",
      "  \n",
      "C:\\Users\\atefeh\\Anaconda3\\lib\\site-packages\\ipykernel_launcher.py:6: SettingWithCopyWarning: \n",
      "A value is trying to be set on a copy of a slice from a DataFrame\n",
      "\n",
      "See the caveats in the documentation: http://pandas.pydata.org/pandas-docs/stable/indexing.html#indexing-view-versus-copy\n",
      "  \n"
     ]
    },
    {
     "data": {
      "text/html": [
       "<div>\n",
       "<style scoped>\n",
       "    .dataframe tbody tr th:only-of-type {\n",
       "        vertical-align: middle;\n",
       "    }\n",
       "\n",
       "    .dataframe tbody tr th {\n",
       "        vertical-align: top;\n",
       "    }\n",
       "\n",
       "    .dataframe thead th {\n",
       "        text-align: right;\n",
       "    }\n",
       "</style>\n",
       "<table border=\"1\" class=\"dataframe\">\n",
       "  <thead>\n",
       "    <tr style=\"text-align: right;\">\n",
       "      <th></th>\n",
       "      <th>customer_id</th>\n",
       "      <th>age</th>\n",
       "      <th>long_lat</th>\n",
       "      <th>gender</th>\n",
       "      <th>INTER BANK</th>\n",
       "      <th>PAY/SALARY</th>\n",
       "      <th>PAYMENT</th>\n",
       "      <th>PHONE BANK</th>\n",
       "      <th>POS</th>\n",
       "      <th>SALES-POS</th>\n",
       "      <th>Salary_Count</th>\n",
       "      <th>Annual_Salary</th>\n",
       "    </tr>\n",
       "  </thead>\n",
       "  <tbody>\n",
       "    <tr>\n",
       "      <th>0</th>\n",
       "      <td>CUS-1005756958</td>\n",
       "      <td>53</td>\n",
       "      <td>153.03 -27.51</td>\n",
       "      <td>F</td>\n",
       "      <td>0</td>\n",
       "      <td>12616.11</td>\n",
       "      <td>5184</td>\n",
       "      <td>2184</td>\n",
       "      <td>2992.04</td>\n",
       "      <td>4251.40</td>\n",
       "      <td>13</td>\n",
       "      <td>49355</td>\n",
       "    </tr>\n",
       "    <tr>\n",
       "      <th>1</th>\n",
       "      <td>CUS-1117979751</td>\n",
       "      <td>21</td>\n",
       "      <td>115.81 -31.82</td>\n",
       "      <td>M</td>\n",
       "      <td>4004</td>\n",
       "      <td>25050.55</td>\n",
       "      <td>15828</td>\n",
       "      <td>0</td>\n",
       "      <td>2425.48</td>\n",
       "      <td>13477.80</td>\n",
       "      <td>7</td>\n",
       "      <td>90999</td>\n",
       "    </tr>\n",
       "    <tr>\n",
       "      <th>2</th>\n",
       "      <td>CUS-1140341822</td>\n",
       "      <td>28</td>\n",
       "      <td>144.97 -37.42</td>\n",
       "      <td>M</td>\n",
       "      <td>1080</td>\n",
       "      <td>11499.06</td>\n",
       "      <td>3408</td>\n",
       "      <td>0</td>\n",
       "      <td>5425.88</td>\n",
       "      <td>12132.28</td>\n",
       "      <td>6</td>\n",
       "      <td>48734</td>\n",
       "    </tr>\n",
       "    <tr>\n",
       "      <th>3</th>\n",
       "      <td>CUS-1147642491</td>\n",
       "      <td>34</td>\n",
       "      <td>151.04 -33.77</td>\n",
       "      <td>F</td>\n",
       "      <td>1000</td>\n",
       "      <td>22248.07</td>\n",
       "      <td>10388</td>\n",
       "      <td>0</td>\n",
       "      <td>8249.24</td>\n",
       "      <td>7293.76</td>\n",
       "      <td>13</td>\n",
       "      <td>87036</td>\n",
       "    </tr>\n",
       "    <tr>\n",
       "      <th>4</th>\n",
       "      <td>CUS-1196156254</td>\n",
       "      <td>34</td>\n",
       "      <td>138.52 -35.01</td>\n",
       "      <td>F</td>\n",
       "      <td>3068</td>\n",
       "      <td>27326.11</td>\n",
       "      <td>12068</td>\n",
       "      <td>0</td>\n",
       "      <td>9222.60</td>\n",
       "      <td>10539.84</td>\n",
       "      <td>7</td>\n",
       "      <td>99266</td>\n",
       "    </tr>\n",
       "  </tbody>\n",
       "</table>\n",
       "</div>"
      ],
      "text/plain": [
       "      customer_id  age       long_lat gender  INTER BANK  PAY/SALARY  PAYMENT  \\\n",
       "0  CUS-1005756958   53  153.03 -27.51      F           0    12616.11     5184   \n",
       "1  CUS-1117979751   21  115.81 -31.82      M        4004    25050.55    15828   \n",
       "2  CUS-1140341822   28  144.97 -37.42      M        1080    11499.06     3408   \n",
       "3  CUS-1147642491   34  151.04 -33.77      F        1000    22248.07    10388   \n",
       "4  CUS-1196156254   34  138.52 -35.01      F        3068    27326.11    12068   \n",
       "\n",
       "   PHONE BANK      POS  SALES-POS  Salary_Count  Annual_Salary  \n",
       "0        2184  2992.04    4251.40            13          49355  \n",
       "1           0  2425.48   13477.80             7          90999  \n",
       "2           0  5425.88   12132.28             6          48734  \n",
       "3           0  8249.24    7293.76            13          87036  \n",
       "4           0  9222.60   10539.84             7          99266  "
      ]
     },
     "execution_count": 17,
     "metadata": {},
     "output_type": "execute_result"
    }
   ],
   "source": [
    "df_CI_S ['Annual_Salary'] = 0\n",
    "for i in range (0, len(df_CI_S)):\n",
    "    if int(df_CI_S.Salary_Count[i]) >= 12:\n",
    "        df_CI_S.Annual_Salary[i] = df_CI_S ['PAY/SALARY'][i]/(df_CI_S.Salary_Count[i]) / 7 * 356\n",
    "    elif int(df_CI_S.Salary_Count[i]) <= 5:\n",
    "        df_CI_S.Annual_Salary[i] = df_CI_S ['PAY/SALARY'][i]/(df_CI_S.Salary_Count[i]) * 12\n",
    "    else:\n",
    "        df_CI_S.Annual_Salary[i] = df_CI_S ['PAY/SALARY'][i]/(df_CI_S.Salary_Count[i]) / 14 * 356\n",
    "\n",
    "# all transaction multipy 4 to obtain for one year\n",
    "\n",
    "df_CI_S [['INTER BANK', 'PAYMENT', 'PHONE BANK', 'POS', \n",
    "          'SALES-POS']] =4 * df_CI_S [['INTER BANK','PAYMENT', 'PHONE BANK', 'POS', 'SALES-POS']]\n",
    "\n",
    "df_CI_S.head()"
   ]
  },
  {
   "cell_type": "code",
   "execution_count": 18,
   "metadata": {
    "scrolled": true
   },
   "outputs": [
    {
     "data": {
      "text/html": [
       "<div>\n",
       "<style scoped>\n",
       "    .dataframe tbody tr th:only-of-type {\n",
       "        vertical-align: middle;\n",
       "    }\n",
       "\n",
       "    .dataframe tbody tr th {\n",
       "        vertical-align: top;\n",
       "    }\n",
       "\n",
       "    .dataframe thead th {\n",
       "        text-align: right;\n",
       "    }\n",
       "</style>\n",
       "<table border=\"1\" class=\"dataframe\">\n",
       "  <thead>\n",
       "    <tr style=\"text-align: right;\">\n",
       "      <th></th>\n",
       "      <th>customer_id</th>\n",
       "      <th>age</th>\n",
       "      <th>long_lat</th>\n",
       "      <th>gender</th>\n",
       "      <th>INTER BANK</th>\n",
       "      <th>PAY/SALARY</th>\n",
       "      <th>PAYMENT</th>\n",
       "      <th>PHONE BANK</th>\n",
       "      <th>POS</th>\n",
       "      <th>SALES-POS</th>\n",
       "      <th>Salary_Count</th>\n",
       "      <th>Annual_Salary</th>\n",
       "      <th>balance</th>\n",
       "      <th>total spend</th>\n",
       "    </tr>\n",
       "  </thead>\n",
       "  <tbody>\n",
       "    <tr>\n",
       "      <th>0</th>\n",
       "      <td>CUS-1005756958</td>\n",
       "      <td>53</td>\n",
       "      <td>153.03 -27.51</td>\n",
       "      <td>F</td>\n",
       "      <td>0</td>\n",
       "      <td>12616.11</td>\n",
       "      <td>5184</td>\n",
       "      <td>2184</td>\n",
       "      <td>2992.04</td>\n",
       "      <td>4251.40</td>\n",
       "      <td>13</td>\n",
       "      <td>49355</td>\n",
       "      <td>463.96</td>\n",
       "      <td>14611.44</td>\n",
       "    </tr>\n",
       "    <tr>\n",
       "      <th>1</th>\n",
       "      <td>CUS-1117979751</td>\n",
       "      <td>21</td>\n",
       "      <td>115.81 -31.82</td>\n",
       "      <td>M</td>\n",
       "      <td>4004</td>\n",
       "      <td>25050.55</td>\n",
       "      <td>15828</td>\n",
       "      <td>0</td>\n",
       "      <td>2425.48</td>\n",
       "      <td>13477.80</td>\n",
       "      <td>7</td>\n",
       "      <td>90999</td>\n",
       "      <td>2335.35</td>\n",
       "      <td>35735.28</td>\n",
       "    </tr>\n",
       "    <tr>\n",
       "      <th>2</th>\n",
       "      <td>CUS-1140341822</td>\n",
       "      <td>28</td>\n",
       "      <td>144.97 -37.42</td>\n",
       "      <td>M</td>\n",
       "      <td>1080</td>\n",
       "      <td>11499.06</td>\n",
       "      <td>3408</td>\n",
       "      <td>0</td>\n",
       "      <td>5425.88</td>\n",
       "      <td>12132.28</td>\n",
       "      <td>6</td>\n",
       "      <td>48734</td>\n",
       "      <td>823.53</td>\n",
       "      <td>22046.16</td>\n",
       "    </tr>\n",
       "    <tr>\n",
       "      <th>3</th>\n",
       "      <td>CUS-1147642491</td>\n",
       "      <td>34</td>\n",
       "      <td>151.04 -33.77</td>\n",
       "      <td>F</td>\n",
       "      <td>1000</td>\n",
       "      <td>22248.07</td>\n",
       "      <td>10388</td>\n",
       "      <td>0</td>\n",
       "      <td>8249.24</td>\n",
       "      <td>7293.76</td>\n",
       "      <td>13</td>\n",
       "      <td>87036</td>\n",
       "      <td>1726.28</td>\n",
       "      <td>26931.00</td>\n",
       "    </tr>\n",
       "    <tr>\n",
       "      <th>4</th>\n",
       "      <td>CUS-1196156254</td>\n",
       "      <td>34</td>\n",
       "      <td>138.52 -35.01</td>\n",
       "      <td>F</td>\n",
       "      <td>3068</td>\n",
       "      <td>27326.11</td>\n",
       "      <td>12068</td>\n",
       "      <td>0</td>\n",
       "      <td>9222.60</td>\n",
       "      <td>10539.84</td>\n",
       "      <td>7</td>\n",
       "      <td>99266</td>\n",
       "      <td>12529.59</td>\n",
       "      <td>34898.44</td>\n",
       "    </tr>\n",
       "  </tbody>\n",
       "</table>\n",
       "</div>"
      ],
      "text/plain": [
       "      customer_id  age       long_lat gender  INTER BANK  PAY/SALARY  PAYMENT  \\\n",
       "0  CUS-1005756958   53  153.03 -27.51      F           0    12616.11     5184   \n",
       "1  CUS-1117979751   21  115.81 -31.82      M        4004    25050.55    15828   \n",
       "2  CUS-1140341822   28  144.97 -37.42      M        1080    11499.06     3408   \n",
       "3  CUS-1147642491   34  151.04 -33.77      F        1000    22248.07    10388   \n",
       "4  CUS-1196156254   34  138.52 -35.01      F        3068    27326.11    12068   \n",
       "\n",
       "   PHONE BANK      POS  SALES-POS  Salary_Count  Annual_Salary   balance  \\\n",
       "0        2184  2992.04    4251.40            13          49355    463.96   \n",
       "1           0  2425.48   13477.80             7          90999   2335.35   \n",
       "2           0  5425.88   12132.28             6          48734    823.53   \n",
       "3           0  8249.24    7293.76            13          87036   1726.28   \n",
       "4           0  9222.60   10539.84             7          99266  12529.59   \n",
       "\n",
       "   total spend  \n",
       "0     14611.44  \n",
       "1     35735.28  \n",
       "2     22046.16  \n",
       "3     26931.00  \n",
       "4     34898.44  "
      ]
     },
     "execution_count": 18,
     "metadata": {},
     "output_type": "execute_result"
    }
   ],
   "source": [
    "# find the initial balance of each customer\n",
    "df_B = dataset[['customer_id','balance']]\n",
    "df_CI_B = df_B.drop_duplicates(subset = ['customer_id'], keep = 'first')\n",
    "\n",
    "\n",
    "# merge with previous dataframe\n",
    "df_S_B = df_CI_S.merge(df_CI_B , left_on = 'customer_id', right_on = 'customer_id', how = 'inner')\n",
    "\n",
    "# adding a column for total spend\n",
    "df_S_B['total spend'] = df_S_B['INTER BANK']+ df_S_B['PAYMENT']+ df_S_B['PHONE BANK']+ df_S_B['POS']+ df_S_B['SALES-POS']\n",
    "\n",
    "df_S_B.head()\n",
    "\n"
   ]
  },
  {
   "cell_type": "code",
   "execution_count": 19,
   "metadata": {
    "scrolled": true
   },
   "outputs": [
    {
     "data": {
      "text/plain": [
       "'\\ndf_S_B[[\\'long\\', \\'lat\\']] = df_S_B.long_lat.str.split(\\' \\', expand = True)\\ndf_S_B[\\'lat_long\\'] = df_S_B[\\'lat\\'].map(str) + \\',\\' + df_S_B[\\'long\\'].map(str)\\n\\nimport geopy\\nfrom geopy.geocoders import Nominatim\\ndef LoctoState(LOC):\\n    locator = Nominatim(user_agent=\"myGeocoder\")\\n    coordinates = LOC\\n    location = locator.reverse(coordinates, exactly_one = True, timeout = 10)\\n    address = location.raw[\\'address\\']\\n    state = address.get(\\'state\\')\\n    return state\\n#print (LoctoState( \"-27.51,153.03\"))\\n\\ndf_S_B[\\'state\\'] = \\'\\'\\nfor i in range (0, len(df_S_B)):\\n    df_S_B[\\'state\\'][i] = LoctoState(df_S_B[\\'lat_long\\'][i])\\n    \\ndf_S_B.head()\\n'"
      ]
     },
     "execution_count": 19,
     "metadata": {},
     "output_type": "execute_result"
    }
   ],
   "source": [
    "# find state of each customer base on longitude and latitude information\n",
    "\"\"\"\n",
    "df_S_B[['long', 'lat']] = df_S_B.long_lat.str.split(' ', expand = True)\n",
    "df_S_B['lat_long'] = df_S_B['lat'].map(str) + ',' + df_S_B['long'].map(str)\n",
    "\n",
    "import geopy\n",
    "from geopy.geocoders import Nominatim\n",
    "def LoctoState(LOC):\n",
    "    locator = Nominatim(user_agent=\"myGeocoder\")\n",
    "    coordinates = LOC\n",
    "    location = locator.reverse(coordinates, exactly_one = True, timeout = 10)\n",
    "    address = location.raw['address']\n",
    "    state = address.get('state')\n",
    "    return state\n",
    "#print (LoctoState( \"-27.51,153.03\"))\n",
    "\n",
    "df_S_B['state'] = ''\n",
    "for i in range (0, len(df_S_B)):\n",
    "    df_S_B['state'][i] = LoctoState(df_S_B['lat_long'][i])\n",
    "    \n",
    "df_S_B.head()\n",
    "\"\"\""
   ]
  },
  {
   "cell_type": "code",
   "execution_count": 20,
   "metadata": {
    "scrolled": true
   },
   "outputs": [
    {
     "data": {
      "text/html": [
       "<div>\n",
       "<style scoped>\n",
       "    .dataframe tbody tr th:only-of-type {\n",
       "        vertical-align: middle;\n",
       "    }\n",
       "\n",
       "    .dataframe tbody tr th {\n",
       "        vertical-align: top;\n",
       "    }\n",
       "\n",
       "    .dataframe thead th {\n",
       "        text-align: right;\n",
       "    }\n",
       "</style>\n",
       "<table border=\"1\" class=\"dataframe\">\n",
       "  <thead>\n",
       "    <tr style=\"text-align: right;\">\n",
       "      <th></th>\n",
       "      <th>age</th>\n",
       "      <th>gender</th>\n",
       "      <th>INTER BANK</th>\n",
       "      <th>PAYMENT</th>\n",
       "      <th>PHONE BANK</th>\n",
       "      <th>POS</th>\n",
       "      <th>SALES-POS</th>\n",
       "      <th>Annual_Salary</th>\n",
       "      <th>balance</th>\n",
       "      <th>total spend</th>\n",
       "    </tr>\n",
       "  </thead>\n",
       "  <tbody>\n",
       "    <tr>\n",
       "      <th>0</th>\n",
       "      <td>53</td>\n",
       "      <td>F</td>\n",
       "      <td>0</td>\n",
       "      <td>5184</td>\n",
       "      <td>2184</td>\n",
       "      <td>2992.04</td>\n",
       "      <td>4251.40</td>\n",
       "      <td>49355</td>\n",
       "      <td>463.96</td>\n",
       "      <td>14611.44</td>\n",
       "    </tr>\n",
       "    <tr>\n",
       "      <th>1</th>\n",
       "      <td>21</td>\n",
       "      <td>M</td>\n",
       "      <td>4004</td>\n",
       "      <td>15828</td>\n",
       "      <td>0</td>\n",
       "      <td>2425.48</td>\n",
       "      <td>13477.80</td>\n",
       "      <td>90999</td>\n",
       "      <td>2335.35</td>\n",
       "      <td>35735.28</td>\n",
       "    </tr>\n",
       "    <tr>\n",
       "      <th>2</th>\n",
       "      <td>28</td>\n",
       "      <td>M</td>\n",
       "      <td>1080</td>\n",
       "      <td>3408</td>\n",
       "      <td>0</td>\n",
       "      <td>5425.88</td>\n",
       "      <td>12132.28</td>\n",
       "      <td>48734</td>\n",
       "      <td>823.53</td>\n",
       "      <td>22046.16</td>\n",
       "    </tr>\n",
       "    <tr>\n",
       "      <th>3</th>\n",
       "      <td>34</td>\n",
       "      <td>F</td>\n",
       "      <td>1000</td>\n",
       "      <td>10388</td>\n",
       "      <td>0</td>\n",
       "      <td>8249.24</td>\n",
       "      <td>7293.76</td>\n",
       "      <td>87036</td>\n",
       "      <td>1726.28</td>\n",
       "      <td>26931.00</td>\n",
       "    </tr>\n",
       "    <tr>\n",
       "      <th>4</th>\n",
       "      <td>34</td>\n",
       "      <td>F</td>\n",
       "      <td>3068</td>\n",
       "      <td>12068</td>\n",
       "      <td>0</td>\n",
       "      <td>9222.60</td>\n",
       "      <td>10539.84</td>\n",
       "      <td>99266</td>\n",
       "      <td>12529.59</td>\n",
       "      <td>34898.44</td>\n",
       "    </tr>\n",
       "  </tbody>\n",
       "</table>\n",
       "</div>"
      ],
      "text/plain": [
       "   age gender  INTER BANK  PAYMENT  PHONE BANK      POS  SALES-POS  \\\n",
       "0   53      F           0     5184        2184  2992.04    4251.40   \n",
       "1   21      M        4004    15828           0  2425.48   13477.80   \n",
       "2   28      M        1080     3408           0  5425.88   12132.28   \n",
       "3   34      F        1000    10388           0  8249.24    7293.76   \n",
       "4   34      F        3068    12068           0  9222.60   10539.84   \n",
       "\n",
       "   Annual_Salary   balance  total spend  \n",
       "0          49355    463.96     14611.44  \n",
       "1          90999   2335.35     35735.28  \n",
       "2          48734    823.53     22046.16  \n",
       "3          87036   1726.28     26931.00  \n",
       "4          99266  12529.59     34898.44  "
      ]
     },
     "execution_count": 20,
     "metadata": {},
     "output_type": "execute_result"
    }
   ],
   "source": [
    "\n",
    "df_F = df_S_B.drop(['customer_id', 'long_lat', 'PAY/SALARY', 'Salary_Count'], axis = 1)\n",
    "df_F.head()"
   ]
  },
  {
   "cell_type": "code",
   "execution_count": 21,
   "metadata": {
    "scrolled": true
   },
   "outputs": [
    {
     "data": {
      "image/png": "[encoded data removed]",
      "text/plain": [
       "<Figure size 432x288 with 9 Axes>"
      ]
     },
     "metadata": {
      "needs_background": "light"
     },
     "output_type": "display_data"
    }
   ],
   "source": [
    "# Histogram of Data visulisation \n",
    "df_F.hist(rwidth = 0.9)\n",
    "plt.tight_layout()"
   ]
  },
  {
   "cell_type": "code",
   "execution_count": 22,
   "metadata": {
    "scrolled": true
   },
   "outputs": [
    {
     "data": {
      "text/plain": [
       "Text(0, 0.5, 'Annual_Salary')"
      ]
     },
     "execution_count": 22,
     "metadata": {},
     "output_type": "execute_result"
    },
    {
     "data": {
      "image/png": "[encoded data removed]",
      "text/plain": [
       "<Figure size 432x288 with 1 Axes>"
      ]
     },
     "metadata": {
      "needs_background": "light"
     },
     "output_type": "display_data"
    }
   ],
   "source": [
    "# Data visulisation \n",
    "# Visualise the continuous features vs PAY/SALARY\n",
    "#plt.subplot(8,1,1)\n",
    "plt.title('INTER BANK vs Annual_Salary')\n",
    "plt.scatter(df_F['INTER BANK'], df_F['Annual_Salary'], s = 2)\n",
    "plt.xlabel('INTER BANK')\n",
    "plt.ylabel('Annual_Salary')\n",
    "\n",
    "#plt.tight_layout()"
   ]
  },
  {
   "cell_type": "code",
   "execution_count": 23,
   "metadata": {
    "scrolled": true
   },
   "outputs": [
    {
     "data": {
      "text/plain": [
       "Text(0, 0.5, 'Annual_Salary')"
      ]
     },
     "execution_count": 23,
     "metadata": {},
     "output_type": "execute_result"
    },
    {
     "data": {
      "image/png": "[encoded data removed]",
      "text/plain": [
       "<Figure size 432x288 with 1 Axes>"
      ]
     },
     "metadata": {
      "needs_background": "light"
     },
     "output_type": "display_data"
    }
   ],
   "source": [
    "#plt.subplot(8,1,2)\n",
    "plt.title('PAYMENT vs Annual_Salary')\n",
    "plt.scatter(df_F['PAYMENT'], df_F['Annual_Salary'], s = 2)\n",
    "plt.xlabel('PAYMENT')\n",
    "plt.ylabel('Annual_Salary')"
   ]
  },
  {
   "cell_type": "code",
   "execution_count": 24,
   "metadata": {
    "scrolled": false
   },
   "outputs": [
    {
     "data": {
      "text/plain": [
       "Text(0, 0.5, 'Annual_Salary')"
      ]
     },
     "execution_count": 24,
     "metadata": {},
     "output_type": "execute_result"
    },
    {
     "data": {
      "image/png": "[encoded data removed]",
      "text/plain": [
       "<Figure size 432x288 with 1 Axes>"
      ]
     },
     "metadata": {
      "needs_background": "light"
     },
     "output_type": "display_data"
    }
   ],
   "source": [
    "#plt.subplot(8,1,3)\n",
    "plt.title('PHONE BANK vs Annual_Salary')\n",
    "plt.scatter(df_F['PHONE BANK'], df_F['Annual_Salary'], s = 2)\n",
    "plt.xlabel('PHONE BANK')\n",
    "plt.ylabel('Annual_Salary')"
   ]
  },
  {
   "cell_type": "code",
   "execution_count": 25,
   "metadata": {
    "scrolled": true
   },
   "outputs": [
    {
     "data": {
      "text/plain": [
       "Text(0, 0.5, 'Annual_Salary')"
      ]
     },
     "execution_count": 25,
     "metadata": {},
     "output_type": "execute_result"
    },
    {
     "data": {
      "image/png": "[encoded data removed]",
      "text/plain": [
       "<Figure size 432x288 with 1 Axes>"
      ]
     },
     "metadata": {
      "needs_background": "light"
     },
     "output_type": "display_data"
    }
   ],
   "source": [
    "#plt.subplot(8,1,4)\n",
    "plt.title('POS vs Annual_Salary')\n",
    "plt.scatter(df_F['POS'], df_F['Annual_Salary'], s = 2)\n",
    "plt.xlabel('POS')\n",
    "plt.ylabel('Annual_Salary')"
   ]
  },
  {
   "cell_type": "code",
   "execution_count": 26,
   "metadata": {
    "scrolled": true
   },
   "outputs": [
    {
     "data": {
      "text/plain": [
       "Text(0, 0.5, 'Annual_Salary')"
      ]
     },
     "execution_count": 26,
     "metadata": {},
     "output_type": "execute_result"
    },
    {
     "data": {
      "image/png": "[encoded data removed]",
      "text/plain": [
       "<Figure size 432x288 with 1 Axes>"
      ]
     },
     "metadata": {
      "needs_background": "light"
     },
     "output_type": "display_data"
    }
   ],
   "source": [
    "#plt.subplot(8,1,5)\n",
    "plt.title('SALES-POS vs Annual_Salary')\n",
    "plt.scatter(df_F['SALES-POS'], df_F['Annual_Salary'], s = 2)\n",
    "plt.xlabel('SALES-POS')\n",
    "plt.ylabel('Annual_Salary')"
   ]
  },
  {
   "cell_type": "code",
   "execution_count": 27,
   "metadata": {
    "scrolled": true
   },
   "outputs": [
    {
     "data": {
      "text/plain": [
       "Text(0, 0.5, 'Annual_Salary')"
      ]
     },
     "execution_count": 27,
     "metadata": {},
     "output_type": "execute_result"
    },
    {
     "data": {
      "image/png": "[encoded data removed]",
      "text/plain": [
       "<Figure size 432x288 with 1 Axes>"
      ]
     },
     "metadata": {
      "needs_background": "light"
     },
     "output_type": "display_data"
    }
   ],
   "source": [
    "#plt.subplot(8,1,6)\n",
    "plt.title('age vs Annual_Salary')\n",
    "plt.scatter(df_F['age'], df_F['Annual_Salary'], s = 2)\n",
    "plt.xlabel('age')\n",
    "plt.ylabel('Annual_Salary')"
   ]
  },
  {
   "cell_type": "code",
   "execution_count": 28,
   "metadata": {
    "scrolled": true
   },
   "outputs": [
    {
     "data": {
      "text/plain": [
       "Text(0, 0.5, 'Annual_Salary')"
      ]
     },
     "execution_count": 28,
     "metadata": {},
     "output_type": "execute_result"
    },
    {
     "data": {
      "image/png": "[encoded data removed]",
      "text/plain": [
       "<Figure size 432x288 with 1 Axes>"
      ]
     },
     "metadata": {
      "needs_background": "light"
     },
     "output_type": "display_data"
    }
   ],
   "source": [
    "#plt.subplot(8,1,7)\n",
    "plt.title('Balance vs Annual_Salary')\n",
    "plt.scatter(df_F['balance'], df_F['Annual_Salary'], s = 2)\n",
    "plt.xlabel('balance')\n",
    "plt.ylabel('Annual_Salary')"
   ]
  },
  {
   "cell_type": "code",
   "execution_count": 29,
   "metadata": {
    "scrolled": true
   },
   "outputs": [
    {
     "data": {
      "text/plain": [
       "Text(0, 0.5, 'Annual_Salary')"
      ]
     },
     "execution_count": 29,
     "metadata": {},
     "output_type": "execute_result"
    },
    {
     "data": {
      "image/png": "[encoded data removed]",
      "text/plain": [
       "<Figure size 432x288 with 1 Axes>"
      ]
     },
     "metadata": {
      "needs_background": "light"
     },
     "output_type": "display_data"
    }
   ],
   "source": [
    "#plt.subplot(8,1,8)\n",
    "plt.title('total spend vs Annual_Salary')\n",
    "plt.scatter(df_F['total spend'], df_F['Annual_Salary'], s = 2)\n",
    "plt.xlabel('total spend')\n",
    "plt.ylabel('Annual_Salary')"
   ]
  },
  {
   "cell_type": "code",
   "execution_count": 30,
   "metadata": {
    "scrolled": true
   },
   "outputs": [
    {
     "data": {
      "text/plain": [
       "<BarContainer object of 2 artists>"
      ]
     },
     "execution_count": 30,
     "metadata": {},
     "output_type": "execute_result"
    },
    {
     "data": {
      "image/png": "[encoded data removed]",
      "text/plain": [
       "<Figure size 432x288 with 1 Axes>"
      ]
     },
     "metadata": {
      "needs_background": "light"
     },
     "output_type": "display_data"
    }
   ],
   "source": [
    "# Data visulisation \n",
    "# Visualise the categorical feature vs PAY/SALARY\n",
    "\n",
    "cat_list = df_F['gender'].unique()\n",
    "cat_average = df_F.groupby('gender')['Annual_Salary'].mean()\n",
    "#cat_average = df_F.groupby('gender').mean()['Annual_Salary']\n",
    "plt.title('Average Annual_Salary vs gender')\n",
    "plt.bar(cat_list, cat_average)\n"
   ]
  },
  {
   "cell_type": "code",
   "execution_count": 31,
   "metadata": {
    "scrolled": true
   },
   "outputs": [
    {
     "data": {
      "text/plain": [
       "count       100.000000\n",
       "mean      65352.270000\n",
       "std       23633.324404\n",
       "min       29293.000000\n",
       "25%       48267.500000\n",
       "50%       58803.000000\n",
       "75%       79821.250000\n",
       "max      131618.000000\n",
       "Name: Annual_Salary, dtype: float64"
      ]
     },
     "execution_count": 31,
     "metadata": {},
     "output_type": "execute_result"
    }
   ],
   "source": [
    "# Check for outlier\n",
    "df_F['Annual_Salary'].describe()\n",
    "#df_F['Annual_Salary'].quantile([0.05, 0.1, 0.15, 0.9, 0.95, 0.99])"
   ]
  },
  {
   "cell_type": "code",
   "execution_count": 32,
   "metadata": {
    "scrolled": true
   },
   "outputs": [
    {
     "name": "stdout",
     "output_type": "stream",
     "text": [
      "               Annual_Salary       age  INTER BANK   PAYMENT  PHONE BANK  \\\n",
      "Annual_Salary       1.000000 -0.061377    0.352362  0.639631    0.033414   \n",
      "age                -0.061377  1.000000   -0.099233  0.026884    0.103961   \n",
      "INTER BANK          0.352362 -0.099233    1.000000  0.087386   -0.081680   \n",
      "PAYMENT             0.639631  0.026884    0.087386  1.000000   -0.132095   \n",
      "PHONE BANK          0.033414  0.103961   -0.081680 -0.132095    1.000000   \n",
      "POS                -0.086938 -0.036929    0.181437 -0.123618   -0.052313   \n",
      "SALES-POS           0.100400 -0.139284    0.158792  0.121610    0.007496   \n",
      "balance             0.110321  0.237992    0.211241  0.018268    0.026537   \n",
      "total spend         0.371378 -0.086176    0.476295  0.416710    0.015633   \n",
      "\n",
      "                    POS  SALES-POS   balance  total spend  \n",
      "Annual_Salary -0.086938   0.100400  0.110321     0.371378  \n",
      "age           -0.036929  -0.139284  0.237992    -0.086176  \n",
      "INTER BANK     0.181437   0.158792  0.211241     0.476295  \n",
      "PAYMENT       -0.123618   0.121610  0.018268     0.416710  \n",
      "PHONE BANK    -0.052313   0.007496  0.026537     0.015633  \n",
      "POS            1.000000   0.418105 -0.000239     0.689232  \n",
      "SALES-POS      0.418105   1.000000 -0.153300     0.756790  \n",
      "balance       -0.000239  -0.153300  1.000000     0.002437  \n",
      "total spend    0.689232   0.756790  0.002437     1.000000  \n"
     ]
    }
   ],
   "source": [
    "# Check linearity using correlation coeficient matrix\n",
    "correlation = df_F[['Annual_Salary', 'age', 'INTER BANK', 'PAYMENT', 'PHONE BANK', 'POS', 'SALES-POS',\n",
    "                   'balance', 'total spend']].corr()\n",
    "print(correlation)"
   ]
  },
  {
   "cell_type": "code",
   "execution_count": 33,
   "metadata": {
    "scrolled": true
   },
   "outputs": [
    {
     "data": {
      "text/html": [
       "<div>\n",
       "<style scoped>\n",
       "    .dataframe tbody tr th:only-of-type {\n",
       "        vertical-align: middle;\n",
       "    }\n",
       "\n",
       "    .dataframe tbody tr th {\n",
       "        vertical-align: top;\n",
       "    }\n",
       "\n",
       "    .dataframe thead th {\n",
       "        text-align: right;\n",
       "    }\n",
       "</style>\n",
       "<table border=\"1\" class=\"dataframe\">\n",
       "  <thead>\n",
       "    <tr style=\"text-align: right;\">\n",
       "      <th></th>\n",
       "      <th>gender</th>\n",
       "      <th>INTER BANK</th>\n",
       "      <th>PAYMENT</th>\n",
       "      <th>SALES-POS</th>\n",
       "      <th>Annual_Salary</th>\n",
       "      <th>balance</th>\n",
       "      <th>total spend</th>\n",
       "    </tr>\n",
       "  </thead>\n",
       "  <tbody>\n",
       "    <tr>\n",
       "      <th>0</th>\n",
       "      <td>F</td>\n",
       "      <td>0</td>\n",
       "      <td>5184</td>\n",
       "      <td>4251.40</td>\n",
       "      <td>49355</td>\n",
       "      <td>463.96</td>\n",
       "      <td>14611.44</td>\n",
       "    </tr>\n",
       "    <tr>\n",
       "      <th>1</th>\n",
       "      <td>M</td>\n",
       "      <td>4004</td>\n",
       "      <td>15828</td>\n",
       "      <td>13477.80</td>\n",
       "      <td>90999</td>\n",
       "      <td>2335.35</td>\n",
       "      <td>35735.28</td>\n",
       "    </tr>\n",
       "    <tr>\n",
       "      <th>2</th>\n",
       "      <td>M</td>\n",
       "      <td>1080</td>\n",
       "      <td>3408</td>\n",
       "      <td>12132.28</td>\n",
       "      <td>48734</td>\n",
       "      <td>823.53</td>\n",
       "      <td>22046.16</td>\n",
       "    </tr>\n",
       "    <tr>\n",
       "      <th>3</th>\n",
       "      <td>F</td>\n",
       "      <td>1000</td>\n",
       "      <td>10388</td>\n",
       "      <td>7293.76</td>\n",
       "      <td>87036</td>\n",
       "      <td>1726.28</td>\n",
       "      <td>26931.00</td>\n",
       "    </tr>\n",
       "    <tr>\n",
       "      <th>4</th>\n",
       "      <td>F</td>\n",
       "      <td>3068</td>\n",
       "      <td>12068</td>\n",
       "      <td>10539.84</td>\n",
       "      <td>99266</td>\n",
       "      <td>12529.59</td>\n",
       "      <td>34898.44</td>\n",
       "    </tr>\n",
       "  </tbody>\n",
       "</table>\n",
       "</div>"
      ],
      "text/plain": [
       "  gender  INTER BANK  PAYMENT  SALES-POS  Annual_Salary   balance  total spend\n",
       "0      F           0     5184    4251.40          49355    463.96     14611.44\n",
       "1      M        4004    15828   13477.80          90999   2335.35     35735.28\n",
       "2      M        1080     3408   12132.28          48734    823.53     22046.16\n",
       "3      F        1000    10388    7293.76          87036   1726.28     26931.00\n",
       "4      F        3068    12068   10539.84          99266  12529.59     34898.44"
      ]
     },
     "execution_count": 33,
     "metadata": {},
     "output_type": "execute_result"
    }
   ],
   "source": [
    "# Drop irrelevant features\n",
    "df_ss = df_F.drop([ 'age','PHONE BANK','POS'], axis = 1)\n",
    "df_ss.head()"
   ]
  },
  {
   "cell_type": "code",
   "execution_count": 34,
   "metadata": {
    "scrolled": true
   },
   "outputs": [],
   "source": [
    "# Create dummy variable\n",
    "df_ss['gender'].dtype\n",
    "df_sm = pd.get_dummies(df_ss, drop_first = True)\n",
    "#df_sm = df_ss"
   ]
  },
  {
   "cell_type": "code",
   "execution_count": 35,
   "metadata": {
    "scrolled": true
   },
   "outputs": [
    {
     "name": "stderr",
     "output_type": "stream",
     "text": [
      "C:\\Users\\atefeh\\Anaconda3\\lib\\site-packages\\sklearn\\preprocessing\\data.py:645: DataConversionWarning: Data with input dtype int64 were all converted to float64 by StandardScaler.\n",
      "  return self.partial_fit(X, y)\n",
      "C:\\Users\\atefeh\\Anaconda3\\lib\\site-packages\\sklearn\\base.py:464: DataConversionWarning: Data with input dtype int64 were all converted to float64 by StandardScaler.\n",
      "  return self.fit(X, **fit_params).transform(X)\n",
      "C:\\Users\\atefeh\\Anaconda3\\lib\\site-packages\\sklearn\\preprocessing\\data.py:645: DataConversionWarning: Data with input dtype int64 were all converted to float64 by StandardScaler.\n",
      "  return self.partial_fit(X, y)\n",
      "C:\\Users\\atefeh\\Anaconda3\\lib\\site-packages\\sklearn\\base.py:464: DataConversionWarning: Data with input dtype int64 were all converted to float64 by StandardScaler.\n",
      "  return self.fit(X, **fit_params).transform(X)\n",
      "C:\\Users\\atefeh\\Anaconda3\\lib\\site-packages\\sklearn\\preprocessing\\data.py:645: DataConversionWarning: Data with input dtype int64 were all converted to float64 by StandardScaler.\n",
      "  return self.partial_fit(X, y)\n",
      "C:\\Users\\atefeh\\Anaconda3\\lib\\site-packages\\sklearn\\base.py:464: DataConversionWarning: Data with input dtype int64 were all converted to float64 by StandardScaler.\n",
      "  return self.fit(X, **fit_params).transform(X)\n"
     ]
    }
   ],
   "source": [
    "# Normalise the data \n",
    "from sklearn.preprocessing import StandardScaler \n",
    "scaler = StandardScaler() \n",
    "df_sm['INTER BANK'] = scaler.fit_transform(df_sm[['INTER BANK']])\n",
    "df_sm['PAYMENT'] = scaler.fit_transform(df_sm[['PAYMENT']])\n",
    "df_sm['SALES-POS'] = scaler.fit_transform(df_sm[['SALES-POS']])\n",
    "df_sm['balance'] = scaler.fit_transform(df_sm[['balance']])\n",
    "df_sm['total spend'] = scaler.fit_transform(df_sm[['total spend']])\n",
    "df_sm['Annual_Salary'] = scaler.fit_transform(df_sm[['Annual_Salary']])\n"
   ]
  },
  {
   "cell_type": "code",
   "execution_count": 36,
   "metadata": {
    "scrolled": true
   },
   "outputs": [],
   "source": [
    "\n",
    "# Split into train and test\n",
    "from sklearn.model_selection import train_test_split\n",
    "\n",
    "X = df_sm.drop(['Annual_Salary'], axis = 1)\n",
    "Y = df_sm[['Annual_Salary']]\n",
    "\n",
    "X_train, X_test, Y_train, Y_test = train_test_split(X, Y, test_size = 0.2, random_state = 1234) \n"
   ]
  },
  {
   "cell_type": "markdown",
   "metadata": {},
   "source": [
    "# Linear Regression"
   ]
  },
  {
   "cell_type": "code",
   "execution_count": 37,
   "metadata": {
    "scrolled": true
   },
   "outputs": [
    {
     "name": "stdout",
     "output_type": "stream",
     "text": [
      "r2 score for Linear Regression is: 0.5763367529452759\n",
      "RMSE for Linear Regression is: 0.6476652932203193\n"
     ]
    }
   ],
   "source": [
    "# Fit and score the model\n",
    "# Linear regression\n",
    "from sklearn.linear_model import LinearRegression\n",
    "from sklearn.metrics import r2_score\n",
    "from sklearn.metrics import mean_squared_error\n",
    "\n",
    "LR = LinearRegression()\n",
    "LR.fit(X_train, Y_train)\n",
    "Y_Predicted = LR.predict(X_test)\n",
    "\n",
    "score_train = LR.score(X_train, Y_train)\n",
    "score_test = LR.score(X_test, Y_test)\n",
    "#r2_score = r2_score(Y_test, Y_Predicted)\n",
    "RMSE = math.sqrt(mean_squared_error(Y_test, Y_Predicted)) \n",
    "\n",
    "\n",
    "print('r2 score for Linear Regression is:' ,score_test)\n",
    "print('RMSE for Linear Regression is:' ,RMSE)\n"
   ]
  },
  {
   "cell_type": "code",
   "execution_count": 38,
   "metadata": {
    "scrolled": true
   },
   "outputs": [
    {
     "data": {
      "text/plain": [
       "array([ 0.2288959 , -0.13826055,  0.34843882,  0.44948336, -0.89811154])"
      ]
     },
     "execution_count": 38,
     "metadata": {},
     "output_type": "execute_result"
    }
   ],
   "source": [
    "# cross_val_score\n",
    "from sklearn.model_selection import cross_val_score\n",
    "scores = cross_val_score(LR, X_train, Y_train, scoring='r2', cv=5)\n",
    "scores "
   ]
  },
  {
   "cell_type": "code",
   "execution_count": 39,
   "metadata": {
    "scrolled": true
   },
   "outputs": [
    {
     "data": {
      "text/plain": [
       "array([ 0.2989966 ,  0.64696935,  0.57678064, -0.17722345, -0.11800458])"
      ]
     },
     "execution_count": 39,
     "metadata": {},
     "output_type": "execute_result"
    }
   ],
   "source": [
    "# KFold\n",
    "from sklearn.model_selection import KFold\n",
    "folds = KFold(n_splits = 5, shuffle = True, random_state = 100)\n",
    "scores = cross_val_score(LR, X_train, Y_train, scoring='r2', cv=folds)\n",
    "scores "
   ]
  },
  {
   "cell_type": "markdown",
   "metadata": {},
   "source": [
    "# Feature Selection"
   ]
  },
  {
   "cell_type": "code",
   "execution_count": 40,
   "metadata": {
    "scrolled": true
   },
   "outputs": [
    {
     "name": "stdout",
     "output_type": "stream",
     "text": [
      "  Feature            F_score            P_value  \n",
      "  -------           -------            ------- \n",
      "  INTER BANK     13.892456810874593    0.00032395470010236047\n",
      "  PAYMENT        67.85635791948742    7.878230949637538e-13\n",
      "  SALES-POS      0.997918573516517    0.32027489509276974\n",
      "  balance        1.2074184722859997    0.2745362021940989\n",
      "  total spend     15.678767795365692    0.00014233394008753423\n",
      "  gender_M       1.9135367414106539    0.16971417787004986\n"
     ]
    },
    {
     "name": "stderr",
     "output_type": "stream",
     "text": [
      "C:\\Users\\atefeh\\Anaconda3\\lib\\site-packages\\sklearn\\utils\\validation.py:761: DataConversionWarning: A column-vector y was passed when a 1d array was expected. Please change the shape of y to (n_samples, ), for example using ravel().\n",
      "  y = column_or_1d(y, warn=True)\n"
     ]
    }
   ],
   "source": [
    "# feature selection\n",
    "from sklearn.feature_selection import f_regression\n",
    "result = f_regression(X,Y)\n",
    "f_score = result [0]\n",
    "p_value = result [1]\n",
    "\n",
    "columns = list(X.columns)\n",
    "print(\"  Feature  \", \"         F_score  \" , \"         P_value  \")\n",
    "print(\"  -------           -------            ------- \")\n",
    "for i in range(0, len(columns)):\n",
    "    f1=  f_score[i]\n",
    "    p1=  p_value[i]\n",
    "    print(\" \", columns[i].ljust(10),\"   \" , f1, \"  \", p1)"
   ]
  },
  {
   "cell_type": "markdown",
   "metadata": {},
   "source": [
    "# Linear Regression after FS"
   ]
  },
  {
   "cell_type": "code",
   "execution_count": 41,
   "metadata": {
    "scrolled": true
   },
   "outputs": [
    {
     "data": {
      "text/html": [
       "<div>\n",
       "<style scoped>\n",
       "    .dataframe tbody tr th:only-of-type {\n",
       "        vertical-align: middle;\n",
       "    }\n",
       "\n",
       "    .dataframe tbody tr th {\n",
       "        vertical-align: top;\n",
       "    }\n",
       "\n",
       "    .dataframe thead th {\n",
       "        text-align: right;\n",
       "    }\n",
       "</style>\n",
       "<table border=\"1\" class=\"dataframe\">\n",
       "  <thead>\n",
       "    <tr style=\"text-align: right;\">\n",
       "      <th></th>\n",
       "      <th>gender</th>\n",
       "      <th>INTER BANK</th>\n",
       "      <th>PAYMENT</th>\n",
       "      <th>Annual_Salary</th>\n",
       "      <th>total spend</th>\n",
       "    </tr>\n",
       "  </thead>\n",
       "  <tbody>\n",
       "    <tr>\n",
       "      <th>0</th>\n",
       "      <td>F</td>\n",
       "      <td>0</td>\n",
       "      <td>5184</td>\n",
       "      <td>49355</td>\n",
       "      <td>14611.44</td>\n",
       "    </tr>\n",
       "    <tr>\n",
       "      <th>1</th>\n",
       "      <td>M</td>\n",
       "      <td>4004</td>\n",
       "      <td>15828</td>\n",
       "      <td>90999</td>\n",
       "      <td>35735.28</td>\n",
       "    </tr>\n",
       "    <tr>\n",
       "      <th>2</th>\n",
       "      <td>M</td>\n",
       "      <td>1080</td>\n",
       "      <td>3408</td>\n",
       "      <td>48734</td>\n",
       "      <td>22046.16</td>\n",
       "    </tr>\n",
       "    <tr>\n",
       "      <th>3</th>\n",
       "      <td>F</td>\n",
       "      <td>1000</td>\n",
       "      <td>10388</td>\n",
       "      <td>87036</td>\n",
       "      <td>26931.00</td>\n",
       "    </tr>\n",
       "    <tr>\n",
       "      <th>4</th>\n",
       "      <td>F</td>\n",
       "      <td>3068</td>\n",
       "      <td>12068</td>\n",
       "      <td>99266</td>\n",
       "      <td>34898.44</td>\n",
       "    </tr>\n",
       "  </tbody>\n",
       "</table>\n",
       "</div>"
      ],
      "text/plain": [
       "  gender  INTER BANK  PAYMENT  Annual_Salary  total spend\n",
       "0      F           0     5184          49355     14611.44\n",
       "1      M        4004    15828          90999     35735.28\n",
       "2      M        1080     3408          48734     22046.16\n",
       "3      F        1000    10388          87036     26931.00\n",
       "4      F        3068    12068          99266     34898.44"
      ]
     },
     "execution_count": 41,
     "metadata": {},
     "output_type": "execute_result"
    }
   ],
   "source": [
    "# Drop irrelevant features\n",
    "df_ss = df_F.drop([ 'age','PHONE BANK','POS', 'balance','SALES-POS'], axis = 1)\n",
    "df_ss.head()"
   ]
  },
  {
   "cell_type": "code",
   "execution_count": 42,
   "metadata": {
    "scrolled": true
   },
   "outputs": [],
   "source": [
    "# Create dummy variable\n",
    "df_ss['gender'].dtype\n",
    "df_sm = pd.get_dummies(df_ss, drop_first = True)"
   ]
  },
  {
   "cell_type": "code",
   "execution_count": 43,
   "metadata": {
    "scrolled": true
   },
   "outputs": [
    {
     "name": "stderr",
     "output_type": "stream",
     "text": [
      "C:\\Users\\atefeh\\Anaconda3\\lib\\site-packages\\sklearn\\preprocessing\\data.py:645: DataConversionWarning: Data with input dtype int64 were all converted to float64 by StandardScaler.\n",
      "  return self.partial_fit(X, y)\n",
      "C:\\Users\\atefeh\\Anaconda3\\lib\\site-packages\\sklearn\\base.py:464: DataConversionWarning: Data with input dtype int64 were all converted to float64 by StandardScaler.\n",
      "  return self.fit(X, **fit_params).transform(X)\n",
      "C:\\Users\\atefeh\\Anaconda3\\lib\\site-packages\\sklearn\\preprocessing\\data.py:645: DataConversionWarning: Data with input dtype int64 were all converted to float64 by StandardScaler.\n",
      "  return self.partial_fit(X, y)\n",
      "C:\\Users\\atefeh\\Anaconda3\\lib\\site-packages\\sklearn\\base.py:464: DataConversionWarning: Data with input dtype int64 were all converted to float64 by StandardScaler.\n",
      "  return self.fit(X, **fit_params).transform(X)\n",
      "C:\\Users\\atefeh\\Anaconda3\\lib\\site-packages\\sklearn\\preprocessing\\data.py:645: DataConversionWarning: Data with input dtype int64 were all converted to float64 by StandardScaler.\n",
      "  return self.partial_fit(X, y)\n",
      "C:\\Users\\atefeh\\Anaconda3\\lib\\site-packages\\sklearn\\base.py:464: DataConversionWarning: Data with input dtype int64 were all converted to float64 by StandardScaler.\n",
      "  return self.fit(X, **fit_params).transform(X)\n"
     ]
    }
   ],
   "source": [
    "# Normalise the data \n",
    "from sklearn.preprocessing import StandardScaler \n",
    "scaler = StandardScaler() \n",
    "df_sm['INTER BANK'] = scaler.fit_transform(df_sm[['INTER BANK']])\n",
    "df_sm['PAYMENT'] = scaler.fit_transform(df_sm[['PAYMENT']])\n",
    "df_sm['total spend'] = scaler.fit_transform(df_sm[['total spend']])\n",
    "df_sm['Annual_Salary'] = scaler.fit_transform(df_sm[['Annual_Salary']])"
   ]
  },
  {
   "cell_type": "code",
   "execution_count": 44,
   "metadata": {
    "scrolled": true
   },
   "outputs": [],
   "source": [
    "\n",
    "# Split into train and test\n",
    "from sklearn.model_selection import train_test_split\n",
    "\n",
    "X = df_sm.drop(['Annual_Salary'], axis = 1)\n",
    "Y = df_sm[['Annual_Salary']]\n",
    "\n",
    "X_train, X_test, Y_train, Y_test = train_test_split(X, Y, test_size = 0.2, random_state = 1234) "
   ]
  },
  {
   "cell_type": "code",
   "execution_count": 45,
   "metadata": {
    "scrolled": true
   },
   "outputs": [
    {
     "name": "stdout",
     "output_type": "stream",
     "text": [
      "r2 score for Linear Regression is: 0.6173311697006681\n",
      "RMSE for Linear Regression is: 0.6155336134400503\n"
     ]
    }
   ],
   "source": [
    "# Fit and score the model\n",
    "# Linear regression\n",
    "from sklearn.linear_model import LinearRegression\n",
    "from sklearn.metrics import r2_score\n",
    "from sklearn.metrics import mean_squared_error\n",
    "\n",
    "LR = LinearRegression()\n",
    "LR.fit(X_train, Y_train)\n",
    "Y_Predicted = LR.predict(X_test)\n",
    "\n",
    "score_train = LR.score(X_train, Y_train)\n",
    "score_test = LR.score(X_test, Y_test)\n",
    "RMSE = math.sqrt(mean_squared_error(Y_test, Y_Predicted)) \n",
    "\n",
    "print('r2 score for Linear Regression is:' ,score_test)\n",
    "print('RMSE for Linear Regression is:' ,RMSE)"
   ]
  },
  {
   "cell_type": "code",
   "execution_count": 46,
   "metadata": {
    "scrolled": true
   },
   "outputs": [
    {
     "data": {
      "text/plain": [
       "array([ 0.23932364, -0.12905291,  0.44972776,  0.49994856, -0.49757349])"
      ]
     },
     "execution_count": 46,
     "metadata": {},
     "output_type": "execute_result"
    }
   ],
   "source": [
    "# cross_val_score\n",
    "from sklearn.model_selection import cross_val_score\n",
    "scores = cross_val_score(LR, X_train, Y_train, scoring='r2', cv=5)\n",
    "scores "
   ]
  },
  {
   "cell_type": "code",
   "execution_count": 47,
   "metadata": {
    "scrolled": true
   },
   "outputs": [
    {
     "data": {
      "text/plain": [
       "array([ 0.40019539,  0.68358956,  0.58267536, -0.19175429, -0.09101695])"
      ]
     },
     "execution_count": 47,
     "metadata": {},
     "output_type": "execute_result"
    }
   ],
   "source": [
    "# KFold\n",
    "from sklearn.model_selection import KFold\n",
    "folds = KFold(n_splits = 5, shuffle = True, random_state = 100)\n",
    "scores = cross_val_score(LR, X_train, Y_train, scoring='r2', cv=folds)\n",
    "scores "
   ]
  },
  {
   "cell_type": "code",
   "execution_count": null,
   "metadata": {
    "scrolled": true
   },
   "outputs": [],
   "source": []
  },
  {
   "cell_type": "code",
   "execution_count": null,
   "metadata": {
    "scrolled": true
   },
   "outputs": [],
   "source": []
  }
 ],
 "metadata": {
  "kernelspec": {
   "display_name": "Python 3",
   "language": "python",
   "name": "python3"
  },
  "language_info": {
   "codemirror_mode": {
    "name": "ipython",
    "version": 3
   },
   "file_extension": ".py",
   "mimetype": "text/x-python",
   "name": "python",
   "nbconvert_exporter": "python",
   "pygments_lexer": "ipython3",
   "version": "3.7.3"
  }
 },
 "nbformat": 4,
 "nbformat_minor": 2
}
